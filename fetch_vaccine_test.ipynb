{
 "cells": [
  {
   "cell_type": "markdown",
   "metadata": {},
   "source": [
    "# Notebook for testing changes to vaccine data fetch script"
   ]
  },
  {
   "cell_type": "code",
   "execution_count": null,
   "metadata": {},
   "outputs": [],
   "source": [
    "import pandas as pd\n",
    "from datetime import date\n",
    "import requests\n",
    "from bs4 import BeautifulSoup\n",
    "import json\n",
    "import re"
   ]
  },
  {
   "cell_type": "markdown",
   "metadata": {},
   "source": [
    "## Load new data from Texas DSHS"
   ]
  },
  {
   "cell_type": "code",
   "execution_count": null,
   "metadata": {},
   "outputs": [],
   "source": [
    "d = date.today().strftime(\"%Y%m%d\")\n",
    "url = f\"https://www.dshs.texas.gov/sites/default/files/LIDS-Immunize-COVID19/COVID%20Dashboard/County%20Dashboard/COVID-19%20Vaccine%20Data%20by%20County_{d}.xlsx\"\n",
    "# url = \"../covid-texas-data/AccessibleVaccineDashboardData/2022-12-21.xlsx\"\n",
    "df = pd.read_excel(url, sheet_name=\"By County\", index_col=[0], engine='openpyxl')"
   ]
  },
  {
   "cell_type": "code",
   "execution_count": null,
   "metadata": {},
   "outputs": [],
   "source": [
    "df.drop('Federal Long-Term Care Vaccination Program', inplace=True) # Drop the federal data\n",
    "df.drop('Federal Pharmacy Retail Vaccination Program', inplace=True)\n",
    "df.drop('Other', inplace=True) # Drop the unknown county data\n",
    "df.rename(index={\"Texas\": \"Statewide\"}, inplace=True)\n",
    "df.index.names = ['county']"
   ]
  },
  {
   "cell_type": "code",
   "execution_count": null,
   "metadata": {},
   "outputs": [],
   "source": [
    "df['date'] = pd.to_datetime(date.today())\n",
    "df.set_index('date', append=True, inplace=True)"
   ]
  },
  {
   "cell_type": "code",
   "execution_count": null,
   "metadata": {},
   "outputs": [],
   "source": [
    "df_new = df.loc[:, [\n",
    "    'Vaccine Doses Administered', \n",
    "    'People Vaccinated with at least One Dose', \n",
    "    'People Fully Vaccinated',\n",
    "    'People Vaccinated with at least One Booster Dose'\n",
    "]]"
   ]
  },
  {
   "cell_type": "code",
   "execution_count": null,
   "metadata": {},
   "outputs": [],
   "source": [
    "df_new.rename(columns={\n",
    "    'Vaccine Doses Administered': 'total_doses',\n",
    "    'People Vaccinated with at least One Dose': 'one_dose',\n",
    "    'People Fully Vaccinated': 'vaccinated',\n",
    "    'People Vaccinated with at least One Booster Dose': 'boosted'\n",
    "}, inplace=True)"
   ]
  },
  {
   "cell_type": "code",
   "execution_count": null,
   "metadata": {},
   "outputs": [],
   "source": [
    "df_new"
   ]
  },
  {
   "cell_type": "markdown",
   "metadata": {},
   "source": [
    "### Update population counts"
   ]
  },
  {
   "cell_type": "code",
   "execution_count": null,
   "metadata": {},
   "outputs": [],
   "source": [
    "df_pop = df.loc[:, ['Population 6Mo+']]\n",
    "df_pop.rename(columns={'Population 6Mo+': 'population'}, inplace=True)\n",
    "df_pop.reset_index(inplace=True)\n",
    "df_pop.drop(columns='date', inplace=True)"
   ]
  },
  {
   "cell_type": "code",
   "execution_count": null,
   "metadata": {},
   "outputs": [],
   "source": [
    "filename = \"docs/vaccine/population.csv\"\n",
    "df_pop.to_csv(filename, float_format='%d', index=False)"
   ]
  },
  {
   "cell_type": "code",
   "execution_count": null,
   "metadata": {},
   "outputs": [],
   "source": []
  },
  {
   "cell_type": "markdown",
   "metadata": {},
   "source": [
    "### Load existing data and append today's data"
   ]
  },
  {
   "cell_type": "code",
   "execution_count": null,
   "metadata": {},
   "outputs": [],
   "source": [
    "filename = \"docs/vaccine/data.csv\"\n",
    "df = pd.read_csv(filename, index_col=['county', 'date'], parse_dates=['date'])"
   ]
  },
  {
   "cell_type": "code",
   "execution_count": null,
   "metadata": {},
   "outputs": [],
   "source": [
    "df_merged = pd.concat([df, df_new])"
   ]
  },
  {
   "cell_type": "code",
   "execution_count": null,
   "metadata": {},
   "outputs": [],
   "source": [
    "df_merged = df_merged[~df_merged.index.duplicated(keep='last')]\n",
    "df_merged.sort_index(inplace=True)"
   ]
  },
  {
   "cell_type": "code",
   "execution_count": null,
   "metadata": {},
   "outputs": [],
   "source": [
    "cols = df_merged.columns\n",
    "df_merged[cols] = df_merged[cols].apply(pd.to_numeric)"
   ]
  },
  {
   "cell_type": "code",
   "execution_count": null,
   "metadata": {},
   "outputs": [],
   "source": [
    "df_merged.to_csv(filename, float_format='%d', date_format='%Y-%m-%d')"
   ]
  },
  {
   "cell_type": "code",
   "execution_count": null,
   "metadata": {},
   "outputs": [],
   "source": []
  },
  {
   "cell_type": "markdown",
   "metadata": {},
   "source": [
    "## Alternative: Scrape data directly from Texas DSHS Vaccine Dashboard\n",
    "Based on https://stackoverflow.com/a/62106733"
   ]
  },
  {
   "cell_type": "code",
   "execution_count": null,
   "metadata": {},
   "outputs": [],
   "source": [
    "def getTableauSession(url):\n",
    "    \"\"\"Return Tableau session for use with sheet scraping\"\"\"\n",
    "    r = requests.get(url, params={\":embed\": \"y\"})\n",
    "    soup = BeautifulSoup(r.text, \"html.parser\")\n",
    "    tableauData = json.loads(soup.find(\"textarea\", {\"id\": \"tsConfigContainer\"}).text)\n",
    "    dataUrl = f'https://tabexternal.dshs.texas.gov{tableauData[\"vizql_root\"]}/bootstrapSession/sessions/{tableauData[\"sessionid\"]}'\n",
    "    r = requests.post(dataUrl, data={\"sheet_id\": tableauData[\"sheetId\"]})\n",
    "    return tableauData, r\n",
    "\n",
    "def fetchSheet(tableauData, viewID):\n",
    "    \"\"\"Returns DataFrame of Tableau sheet with given view ID\"\"\"\n",
    "    url = f\"https://tabexternal.dshs.texas.gov{tableauData['vizql_root']}/vudcsv/sessions/{tableauData['sessionid']}/views/{viewID}?summary=true\"\n",
    "    return pd.read_csv(url)"
   ]
  },
  {
   "cell_type": "code",
   "execution_count": null,
   "metadata": {},
   "outputs": [],
   "source": [
    "# Initiate Tableua session\n",
    "url = \"https://tabexternal.dshs.texas.gov/t/THD/views/COVID-19VaccineinTexasDashboard/Summary\"\n",
    "tableauData, r = getTableauSession(url)"
   ]
  },
  {
   "cell_type": "code",
   "execution_count": null,
   "metadata": {},
   "outputs": [],
   "source": [
    "# Doses shipped (hardcoded into page)\n",
    "state_shipped = re.findall(\"Doses Shipped  (\\d{1,}(?:\\,?\\d{3})*)\", r.text)\n",
    "state_shipped = int(state_shipped[0].replace(\",\", \"\"))"
   ]
  },
  {
   "cell_type": "code",
   "execution_count": null,
   "metadata": {},
   "outputs": [],
   "source": [
    "# Doses allocated\n",
    "viewID = \"2676828700685879255_608844250958173633\"\n",
    "sheet = fetchSheet(tableauData, viewID)\n",
    "state_allocated = sheet.loc[0, \"Measure Values\"]"
   ]
  },
  {
   "cell_type": "code",
   "execution_count": null,
   "metadata": {},
   "outputs": [],
   "source": [
    "# People vaccinated with at least one dose\n",
    "viewID = \"2676828700685879255_10709947349744759431\"\n",
    "sheet = fetchSheet(tableauData, viewID)\n",
    "state_onedose = sheet.loc[0, \"Measure Values\"]"
   ]
  },
  {
   "cell_type": "code",
   "execution_count": null,
   "metadata": {},
   "outputs": [],
   "source": [
    "# People fully vaccinated\n",
    "viewID = \"2676828700685879255_12258269643267636113\"\n",
    "sheet = fetchSheet(tableauData, viewID)\n",
    "state_vaccinated = sheet.loc[0, \"Measure Values\"]"
   ]
  },
  {
   "cell_type": "code",
   "execution_count": null,
   "metadata": {},
   "outputs": [],
   "source": [
    "# Doses administered\n",
    "viewID = \"2676828700685879255_15217363142870747880\"\n",
    "sheet = fetchSheet(tableauData, viewID)\n",
    "state_doses = sheet.loc[0, \"Measure Values\"]\n",
    "last_updated = pd.to_datetime(sheet.loc[0, \"PublishData\"])"
   ]
  },
  {
   "cell_type": "code",
   "execution_count": null,
   "metadata": {},
   "outputs": [],
   "source": [
    "# County data (administered)\n",
    "viewID = \"2676828700685879255_10988292915152174895\"\n",
    "sheet = fetchSheet(tableauData, viewID)\n",
    "\n",
    "sheet.drop(sheet.loc[sheet['County Name'] == 'Other'].index, inplace=True) # Drop the unknown county row\n",
    "sheet['SumPeople'] = sheet['SumPeople'].apply(lambda x: pd.to_numeric(x.replace(\",\", \"\")))\n",
    "sheet['SumPeopleFullyVax'] = sheet['SumPeopleFullyVax'].apply(lambda x: pd.to_numeric(x.replace(\",\", \"\")))\n",
    "\n",
    "sheet_new = sheet[['County Name', 'SumPeople', 'SumPeopleFullyVax']].copy()\n",
    "sheet_new.rename(columns={\n",
    "    'County Name': 'county',\n",
    "    'SumPeople': 'one_dose',\n",
    "    'SumPeopleFullyVax': 'vaccinated',\n",
    "}, inplace=True)"
   ]
  },
  {
   "cell_type": "code",
   "execution_count": null,
   "metadata": {},
   "outputs": [],
   "source": [
    "sheet_new.insert(1, 'total_doses', sheet_new['one_dose'] + sheet_new['vaccinated'])\n",
    "sheet_new.loc[-1] = [\"Statewide\", state_doses, state_onedose, state_vaccinated]"
   ]
  },
  {
   "cell_type": "code",
   "execution_count": null,
   "metadata": {},
   "outputs": [],
   "source": [
    "sheet_new['date'] = pd.to_datetime(last_updated.normalize())\n",
    "sheet_new.set_index(['county', 'date'], inplace=True)\n",
    "sheet_new.sort_index(inplace=True)"
   ]
  },
  {
   "cell_type": "code",
   "execution_count": null,
   "metadata": {},
   "outputs": [],
   "source": [
    "sheet_new"
   ]
  },
  {
   "cell_type": "code",
   "execution_count": null,
   "metadata": {},
   "outputs": [],
   "source": []
  },
  {
   "cell_type": "code",
   "execution_count": null,
   "metadata": {},
   "outputs": [],
   "source": [
    "df"
   ]
  },
  {
   "cell_type": "code",
   "execution_count": null,
   "metadata": {},
   "outputs": [],
   "source": []
  },
  {
   "cell_type": "markdown",
   "metadata": {},
   "source": [
    "## Load missing date from Texas Tribune data\n",
    "From [rdmurphy/tx-covid-vaccine-data](https://github.com/rdmurphy/tx-covid-vaccine-data)"
   ]
  },
  {
   "cell_type": "code",
   "execution_count": null,
   "metadata": {},
   "outputs": [],
   "source": [
    "date = '2021-03-24'"
   ]
  },
  {
   "cell_type": "code",
   "execution_count": null,
   "metadata": {},
   "outputs": [],
   "source": [
    "df_new = pd.read_csv(f\"https://raw.githubusercontent.com/rdmurphy/tx-covid-vaccine-data/main/distribution/snapshots/{date}.csv\", index_col='County Name')\n",
    "df_new.drop('Federal Long-Term Care Vaccination Program', inplace=True)\n",
    "df_new.drop('Federal Pharmacy Retail Vaccination Program', inplace=True)\n",
    "df_new.drop('Other', inplace=True)\n",
    "df_new.rename(index={\"Texas\": \"Statewide\"}, inplace=True)\n",
    "df_new.index.names = ['county']"
   ]
  },
  {
   "cell_type": "code",
   "execution_count": null,
   "metadata": {},
   "outputs": [],
   "source": [
    "df_new['date'] = pd.to_datetime(date)\n",
    "df_new.set_index('date', append=True, inplace=True)"
   ]
  },
  {
   "cell_type": "code",
   "execution_count": null,
   "metadata": {},
   "outputs": [],
   "source": [
    "df_new = df_new.loc[:, [\n",
    "    'Vaccine Doses Administered', \n",
    "    'People Vaccinated with at least One Dose', \n",
    "    'People Fully Vaccinated',\n",
    "]]"
   ]
  },
  {
   "cell_type": "code",
   "execution_count": null,
   "metadata": {},
   "outputs": [],
   "source": [
    "df_new.rename(columns={\n",
    "    'Vaccine Doses Administered': 'total_doses',\n",
    "    'People Vaccinated with at least One Dose': 'one_dose',\n",
    "    'People Fully Vaccinated': 'vaccinated',\n",
    "}, inplace=True)"
   ]
  },
  {
   "cell_type": "code",
   "execution_count": null,
   "metadata": {},
   "outputs": [],
   "source": [
    "df_new"
   ]
  },
  {
   "cell_type": "markdown",
   "metadata": {},
   "source": [
    "### Load existing data and merge"
   ]
  },
  {
   "cell_type": "code",
   "execution_count": null,
   "metadata": {},
   "outputs": [],
   "source": [
    "filename = \"docs/vaccine/data.csv\"\n",
    "df = pd.read_csv(filename, index_col=['county', 'date'], parse_dates=['date'])"
   ]
  },
  {
   "cell_type": "code",
   "execution_count": null,
   "metadata": {},
   "outputs": [],
   "source": [
    "df_merged = pd.concat([df, df_new])"
   ]
  },
  {
   "cell_type": "code",
   "execution_count": null,
   "metadata": {},
   "outputs": [],
   "source": [
    "df_merged = df_merged[~df_merged.index.duplicated(keep='last')]\n",
    "df_merged.sort_index(inplace=True)"
   ]
  },
  {
   "cell_type": "code",
   "execution_count": null,
   "metadata": {},
   "outputs": [],
   "source": [
    "df_merged"
   ]
  },
  {
   "cell_type": "code",
   "execution_count": null,
   "metadata": {},
   "outputs": [],
   "source": [
    "df_merged.to_csv(filename, float_format='%d', date_format='%Y-%m-%d')"
   ]
  },
  {
   "cell_type": "code",
   "execution_count": null,
   "metadata": {},
   "outputs": [],
   "source": []
  }
 ],
 "metadata": {
  "kernelspec": {
   "display_name": "covid-texas",
   "language": "python",
   "name": "covid-texas"
  },
  "language_info": {
   "codemirror_mode": {
    "name": "ipython",
    "version": 3
   },
   "file_extension": ".py",
   "mimetype": "text/x-python",
   "name": "python",
   "nbconvert_exporter": "python",
   "pygments_lexer": "ipython3",
   "version": "3.10.9"
  }
 },
 "nbformat": 4,
 "nbformat_minor": 4
}
